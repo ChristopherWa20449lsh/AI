{
 "cells": [
  {
   "cell_type": "code",
   "execution_count": 4,
   "metadata": {},
   "outputs": [],
   "source": [
    "import numpy as np\n",
    "import time"
   ]
  },
  {
   "cell_type": "code",
   "execution_count": 10,
   "metadata": {},
   "outputs": [
    {
     "name": "stdout",
     "output_type": "stream",
     "text": [
      "(1, 3)\n",
      "[32]\n"
     ]
    }
   ],
   "source": [
    "a=np.array([[1,2,3]])\n",
    "b=np.array([4,5,6])\n",
    "print(a.shape)\n",
    "print(np.dot(a,b))"
   ]
  },
  {
   "cell_type": "code",
   "execution_count": 13,
   "metadata": {},
   "outputs": [
    {
     "name": "stdout",
     "output_type": "stream",
     "text": [
      "[[ 0.08183046]\n",
      " [ 0.58120049]\n",
      " [ 1.12678164]\n",
      " [-2.20527302]\n",
      " [ 0.3548108 ]]\n",
      "[[ 1.26091938 -1.7416599  -1.98988271  0.06798276  1.65498647]]\n"
     ]
    }
   ],
   "source": [
    "c=np.random.randn(5,1)\n",
    "d=np.random.randn(1,5)\n",
    "print(c,d,sep='\\n')"
   ]
  },
  {
   "cell_type": "code",
   "execution_count": 7,
   "metadata": {},
   "outputs": [
    {
     "name": "stdout",
     "output_type": "stream",
     "text": [
      "1.2140274047851562ms\n"
     ]
    }
   ],
   "source": [
    "c=np.random.rand(1000000)\n",
    "d=np.random.rand(1000000)\n",
    "\n",
    "tic=time.time()\n",
    "e=np.dot(c,d)\n",
    "toc=time.time()\n",
    "\n",
    "print(str(1000*(toc-tic))+\"ms\")"
   ]
  },
  {
   "cell_type": "code",
   "execution_count": 8,
   "metadata": {},
   "outputs": [
    {
     "name": "stdout",
     "output_type": "stream",
     "text": [
      "321.87795639038086ms\n"
     ]
    }
   ],
   "source": [
    "e=0\n",
    "tic=time.time()\n",
    "for i in range(1000000):\n",
    "    e+=c[i]*d[i]\n",
    "toc=time.time()\n",
    "\n",
    "print(str(1000*(toc-tic))+\"ms\")"
   ]
  }
 ],
 "metadata": {
  "kernelspec": {
   "display_name": ".venv",
   "language": "python",
   "name": "python3"
  },
  "language_info": {
   "codemirror_mode": {
    "name": "ipython",
    "version": 3
   },
   "file_extension": ".py",
   "mimetype": "text/x-python",
   "name": "python",
   "nbconvert_exporter": "python",
   "pygments_lexer": "ipython3",
   "version": "3.8.19"
  }
 },
 "nbformat": 4,
 "nbformat_minor": 2
}
